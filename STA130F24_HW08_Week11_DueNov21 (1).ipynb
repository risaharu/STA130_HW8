{
 "cells": [
  {
   "cell_type": "markdown",
   "id": "8a29dab0",
   "metadata": {},
   "source": [
    "# STA130 Homework 08\n",
    "\n",
    "Please see the course [wiki-textbook](https://github.com/pointOfive/stat130chat130/wiki) for the list of topics covered in this homework assignment, and a list of topics that might appear during ChatBot conversations which are \"out of scope\" for the purposes of this homework assignment (and hence can be safely ignored if encountered)"
   ]
  },
  {
   "cell_type": "markdown",
   "id": "94eee301",
   "metadata": {},
   "source": [
    "<details class=\"details-example\"><summary style=\"color:blue\"><u>Introduction</u></summary>\n",
    "\n",
    "### Introduction\n",
    "    \n",
    "A reasonable characterization of STA130 Homework is that it simply defines a weekly reading comprehension assignment. \n",
    "Indeed, STA130 Homework essentially boils down to completing various understanding confirmation exercises oriented around coding and writing tasks.\n",
    "However, rather than reading a textbook, STA130 Homework is based on ChatBots so students can interactively follow up to clarify questions or confusion that they may still have regarding learning objective assignments.\n",
    "\n",
    "> Communication is a fundamental skill underlying statistics and data science, so STA130 Homework based on ChatBots helps practice effective two-way communication as part of a \"realistic\" dialogue activity supporting underlying conceptual understanding building. \n",
    "\n",
    "It will likely become increasingly tempting to rely on ChatBots to \"do the work for you\". But when you find yourself frustrated with a ChatBots inability to give you the results you're looking for, this is a \"hint\" that you've become overreliant on the ChatBots. Your objective should not be to have ChatBots \"do the work for you\", but to use ChatBots to help you build your understanding so you can efficiently leverage ChatBots (and other resources) to help you work more efficiently.<br><br>\n",
    "\n",
    "</details>\n",
    "\n",
    "<details class=\"details-example\"><summary style=\"color:blue\"><u>Instructions</u></summary>\n",
    "\n",
    "### Instructions\n",
    "    \n",
    "1. Code and write all your answers (for both the \"Pre-lecture\" and \"Post-lecture\" HW) in a python notebook (in code and markdown cells) \n",
    "    \n",
    "> It is *suggested but not mandatory* that you complete the \"Pre-lecture\" HW prior to the Monday LEC since (a) all HW is due at the same time; but, (b) completing some of the HW early will mean better readiness for LEC and less of a \"procrastentation cruch\" towards the end of the week...\n",
    "    \n",
    "2. Paste summaries of your ChatBot sessions (including link(s) to chat log histories if you're using ChatGPT) within your notebook\n",
    "    \n",
    "> Create summaries of your ChatBot sessions by using concluding prompts such as \"Please provide a summary of our exchanges here so I can submit them as a record of our interactions as part of a homework assignment\" or, \"Please provide me with the final working verson of the code that we created together\"\n",
    "    \n",
    "3. Save your python jupyter notebook in your own account and \"repo\" on [github.com](github.com) and submit a link to that notebook though Quercus for assignment marking<br><br>\n",
    "\n",
    "</details>\n",
    "\n",
    "<details class=\"details-example\"><summary style=\"color:blue\"><u>Prompt Engineering?</u></summary>\n",
    "    \n",
    "### Prompt Engineering? \n",
    "    \n",
    "The questions (as copy-pasted prompts) are designed to initialize appropriate ChatBot conversations which can be explored in the manner of an interactive and dynamic textbook; but, it is nonetheless **strongly recommendated** that your rephrase the questions in a way that you find natural to ensure a clear understanding of the question. Given sensible prompts the represent a question well, the two primary challenges observed to arise from ChatBots are \n",
    "\n",
    "1. conversations going beyond the intended scope of the material addressed by the question; and, \n",
    "2. unrecoverable confusion as a result of sequential layers logial inquiry that cannot be resolved. \n",
    "\n",
    "In the case of the former (1), adding constraints specifying the limits of considerations of interest tends to be helpful; whereas, the latter (2) is often the result of initial prompting that leads to poor developments in navigating the material, which are likely just best resolve by a \"hard reset\" with a new initial approach to prompting.  Indeed, this is exactly the behavior [hardcoded into copilot](https://answers.microsoft.com/en-us/bing/forum/all/is-this-even-normal/0b6dcab3-7d6c-4373-8efe-d74158af3c00)...\n",
    "\n",
    "</details>"
   ]
  },
  {
   "cell_type": "markdown",
   "id": "ffbc1200",
   "metadata": {},
   "source": [
    "### Marking Rubric (which may award partial credit)\n",
    "- [0.1 points]: All relevant ChatBot summaries [including link(s) to chat log histories if you're using ChatGPT] are reported within the notebook\n",
    "- [0.2 points]: Well-communicated and sensible answers for Question \"2\"\n",
    "- [0.2 points]: Correct code and well-communicated correct answer for Question \"4\" \n",
    "- [0.2 points]: Correct calculations for requested metrics in Question \"6\" \n",
    "- [0.3 points]: Correct and well-communicated explanation of differences for Question \"7\" \n",
    "<!-- - [0.1 points]: Written submission evaluation and enagement confirmation with ChatBot summaries for \"8\", \"10\"-->\n",
    "\n"
   ]
  },
  {
   "cell_type": "markdown",
   "id": "67686639",
   "metadata": {},
   "source": [
    "## \"Pre-lecture\" HW [*completion prior to next LEC is suggested but not mandatory*]"
   ]
  },
  {
   "cell_type": "markdown",
   "id": "54a53734",
   "metadata": {},
   "source": [
    "\n",
    "### 1. Start a ChatBot session to understand what a *Classification Decision Tree* is: (a) ask the ChatBot to describe the type of problem a *Classification Decision Tree* addresses and provide some examples of real-world applications where this might be particularly useful, and then (b) make sure you understand the difference between how a *Classification Decision Tree* makes *(classification) predictions* versus how *Multiple Linear Regression* makes *(regression) predictions*<br>\n",
    "\n",
    "<details class=\"details-example\"><summary style=\"color:blue\"><u>Further Guidance</u></summary>\n",
    "\n",
    "> _The first part (a) of this question is looking for you to understand the difference between **classification** and **regression**. The second part (b) of the questions is looking for a fairly high level understanding of the general nature of a decision tree and how it is based on making sequential decisions down the *nodes* of *tree* in order to eventually make a final prediction. This part (b) is essentially the **Classification Decision Tree** analog of \"explain how the **linear form** makes a prediciton in **Multiple Linear Regression** generally speaking\"; namely,\"explain how the **tree** makes a prediciton in a **Classification Decision Tree** generally speaking\"._\n",
    "> \n",
    "> _**If you're struggling with this, it would probably be most helpful to go search for and some images of example decision trees to look at!**_\n",
    "> \n",
    "> - _You may be beginning to realize or will nonetheless eventually come to understand that the sequential decisions at each stage of the **Decision Tree** are **interactions** (in the same manner as **interactions** in **Multiple Linear Regression**.  Once you start to see that and it's making sense to you then you'll increasingly appreciate how **complex** **Decision Tree** models can be, even though they're pretty simple to understand if you just look at one._\n",
    ">\n",
    "> ---\n",
    ">    \n",
    "> _When using chatbots, it's often more effective (and enjoyable) to ask concise, single questions rather than presenting complex, multi-part queries. This approach can help in obtaining clearer and more specific responses (that might be more enjoyable to interact with). You can always ask multi-part questions as a series of additional sequential questions. With this approach, chatbots may not automatically reiterate previously explained concepts. So if you need a refresher or further explanation on a topic discussed earlier, just explicitly request during follow-up interactions._\n",
    "> \n",
    "> ---\n",
    "> \n",
    "> _Don't forget to ask for summaries of all your different ChatBot sessions and organize and paste these into your homework notebook (including link(s) to chat log histories if you're using ChatBot); but, if you're using the STA130 custom NBLM ChatBot, you'll only be able to ask for summaries, of course!_ \n",
    "    \n",
    "</details>"
   ]
  },
  {
   "cell_type": "markdown",
   "id": "ce30464e",
   "metadata": {},
   "source": [
    "a) The type of problem a classification decision three adressess and real-world applicaitons \n",
    "\n",
    "Classification Decision Tree addresses classification problems, which involve categorizing data into predefined classes or categories. The output is discrete, meaning it predicts which class or category a data point belongs to.\n",
    "\n",
    "Examples of Real-World Applications:\n",
    "\n",
    "1. Medical Diagnosis: Classifying whether a patient has a disease (e.g., diabetes, cancer) based on symptoms and test results.\n",
    "2. Email Filtering: Categorizing emails as \"spam\" or \"not spam.\"\n",
    "3. Customer Segmentation: Assigning customers to categories such as \"high-value\" or \"low-value\" based on purchasing behaviors.\n",
    "4. Fraud Detection: Identifying transactions as \"fraudulent\" or \"legitimate.\"\n",
    "5. Credit Risk Assessment: Classifying loan applicants as \"low risk\" or \"high risk.\"\n",
    "\n",
    "In contrast, regression problems deal with predicting continuous outcomes. For example:\n",
    "\n",
    "- Predicting house prices based on features like square footage and location.\n",
    "- Forecasting future stock prices."
   ]
  },
  {
   "cell_type": "markdown",
   "id": "ed815d9e",
   "metadata": {},
   "source": [
    "b) How a classification decision tree makes predictions vs How multiple linear regression makes predictions \n",
    "\n",
    "Classification Decision Tree:\n",
    "General Process:\n",
    "\n",
    "- The tree begins at a root node and splits the dataset based on feature values. At each split, it uses rules to partition data into groups that are more homogenous with respect to the target classes.\n",
    "- Splits are determined by metrics like Gini Impurity or Entropy, which measure the \"purity\" of a node.\n",
    "- The tree continues to split until it reaches leaf nodes, where each leaf represents a final class prediction.\n",
    "- To predict the class for a new instance, the tree evaluates the features of the instance sequentially, moving through the nodes based on the rules, until it reaches a leaf node with the predicted class.\n",
    "\n",
    "Key Idea: The decision tree learns hierarchical, sequential rules for classification by recursively partitioning data."
   ]
  },
  {
   "cell_type": "markdown",
   "id": "3713aca0",
   "metadata": {},
   "source": [
    "Multiple linear regression: \n",
    "\n",
    "Process: \n",
    "1. Linear regression models a relationship between one or more independent variables (X) and a dependent variable (Y).\n",
    "2. It predicts Y using linear equation: \n",
    "    Y=b0+b1X1+b2X2+...+bnXn\n",
    "3. Coefficients (b0, b1, b2,..., bn) are learned by minimizing the sum of squared errors between the predicted and actual Y values. \n",
    "4. For a new instance, the prediction is calculated directly by plugging feature values into the equation.\n",
    "\n",
    "Key idea:Linear regression predicts a continuous value by fitting a linear equation to the data.\n"
   ]
  },
  {
   "cell_type": "markdown",
   "id": "cee838cf",
   "metadata": {},
   "source": [
    "Key Differences:\n",
    "1. Nature of Prediction:\n",
    "- Classification Decision Tree: Predicts a category.\n",
    "- Multiple Linear Regression: Predicts a continuous value.\n",
    "\n",
    "2. How Predictions Are Made:\n",
    "- Classification Decision Tree: Uses sequential decision-making through a tree structure based on feature thresholds.\n",
    "- Multiple Linear Regression: Uses a mathematical formula to calculate a continuous outcome.\n",
    "\n",
    "3. Interpretability:\n",
    "- Classification Decision Tree: Provides clear decision rules, making it easy to interpret.\n",
    "- Multiple Linear Regression: Requires understanding of coefficients and their contributions to predictions."
   ]
  },
  {
   "cell_type": "markdown",
   "id": "6bbf97d1",
   "metadata": {},
   "source": [
    "### 2. Continue your ChatBot session and explore with your ChatBot what real-world application scenario(s) might be most appropriately addressed by each of the following *metrics* below: provide your answers and, in your own words, *concisely explain your rationale for your answers.*<br>\n",
    "\n",
    "\n",
    "1. **Accuracy** measures the proportion of true results (both true positives and true negatives) in the population.\n",
    "\n",
    "$$\\text{Accuracy} = \\frac{TP + TN}{TP + TN + FP + FN}$$\n",
    "    \n",
    "2. **Sensitivity** measures the proportion of actual positives that are correctly identified.\n",
    "\n",
    "$$\\text{Sensitivity} = \\frac{TP}{TP + FN}$$\n",
    "\n",
    "3. **Specificity** measures the proportion of actual negatives that are correctly identified.\n",
    "\n",
    "$$\\text{Specificity} = \\frac{TN}{TN + FP}$$\n",
    "\n",
    "4. **Precision** measures the proportion of positive identifications that were actually correct.\n",
    "\n",
    "$$\\text{Precision} = \\frac{TP}{TP + FP}$$\n",
    "\n",
    "<details class=\"details-example\"><summary style=\"color:blue\"><u>Further Guidance</u></summary>\n",
    "\n",
    "> _This question could be restated as, \"Give examples of real-world examples where each of these **metrics** would be particularly useful.\"_\n",
    ">\n",
    "> _The primary objective here is to understand the distinction between each of these **metrics**. The secondary objective is to notice how the nature of the decision-making that each of these **metrics** most naturally supports is very distinct, ideally based on identifying memorable examples that really distinguish between the **metrics**._\n",
    ">\n",
    "> - _Have a look at this (greatly expanded) handy list of additional metrics, formulas, and synonyms at the following [wikipedia page](https://en.wikipedia.org/wiki/Sensitivity_and_specificity) if you want this to get real crazy real fast._\n",
    ">    \n",
    "> ---\n",
    "> \n",
    "> _Don't forget to ask for summaries of all your different ChatBot sessions and organize and paste these into your homework notebook (including link(s) to chat log histories if you're using ChatBot); but, if you're using the STA130 custom NBLM ChatBot, you'll only be able to ask for summaries, of course!_ \n",
    "    \n",
    "</details>"
   ]
  },
  {
   "cell_type": "markdown",
   "id": "5188de56",
   "metadata": {},
   "source": [
    "1. Accuracy -- is useful when there are balanced datasets, where false positives (FP) and false negatives (FN) are equally important. \n",
    "\n",
    "- weather prediction: Classifyng whether it will rain tomorrow:  Both false alarms (FP) and missed rain forecasts (FN) have similar impacts.\n",
    "- Spam Filtering: Determining whether an email is spam or not when misclassification errors carry equal weight.\n",
    "\n",
    "Rationale: a high overall correctness matters more than focusing on specific types of errors."
   ]
  },
  {
   "cell_type": "markdown",
   "id": "a04b4f35",
   "metadata": {},
   "source": [
    "2. Sensitivity -- it's useful when catching as many positives as possible is critical, even if it leads to more false positives. \n",
    "\n",
    "- medical screening: Detecting a serious disease like cancer. Missing a positive case (FN) could be life-threatening, so maximizing sensitivity is essential.\n",
    "- fraud detection: Identifying fraudulent transactions. Missing a fraud (FN) is more costly than investigating false positives.\n",
    "\n",
    "Rationale: Prioritizing sensitivity ensures that as few positives as possible are missed, which is crucial when false negatives have severe consequences."
   ]
  },
  {
   "cell_type": "markdown",
   "id": "fad780a6",
   "metadata": {},
   "source": [
    "3. Specificity -- is useful when it’s important to correctly identify negatives, minimizing false positives.\n",
    "\n",
    "- drug testing: Ensuring that individuals who test negative for drugs are truly negative (e.g., in employment screening). False positives (FP) could unfairly harm someone's reputation.\n",
    "- spam filtering (coporate): Avoiding false positives to ensure critical emails (e.g., work emails) are not misclassified as spam.\n",
    "\n",
    "Rationale: High specificity is essential when false positives have significant consequences, such as reputational damage or missing critical information."
   ]
  },
  {
   "cell_type": "markdown",
   "id": "a83a8d26",
   "metadata": {},
   "source": [
    "4. Precision -- is useful when the cost of false positives is high, and you need to ensure that positive predictions are reliable.\n",
    "\n",
    "- search engine results: Ensuring that the top search results are relevant (true positives) and minimizing irrelevant results (false positives).\n",
    "- advertisement targeting: Showing ads to users who are most likely to convert. False positives (irrelevant ads) waste money.\n",
    "\n",
    "Rationale: Precision matters when positive predictions need to be trusted or when the cost of acting on false positives is significant."
   ]
  },
  {
   "cell_type": "markdown",
   "id": "f58bd64b",
   "metadata": {},
   "source": [
    "### 3. Explore the amazon books dataset, seen previously at the start of the semester, providing some initital standard *exploratory data analysis (EDA)* and data summarization after pre-processing the dataset to meet the requirements below<br>\n",
    "\n",
    " 1. remove `Weight_oz`, `Width`, and `Height` \n",
    " 2. drop all remaining rows with `NaN` entries \n",
    " 3. set `Pub year` and `NumPages` to have the type `int`, and `Hard_or_Paper` to have the type `category`\n",
    "\n",
    "<details class=\"details-example\"><summary style=\"color:blue\"><u>Further Guidance</u></summary>\n",
    "\n",
    "> _`NaN` entries can't be used in their raw form with the `scikit-learn` methodologies, so we do need to remove them to proceed with our analyses._\n",
    ">     \n",
    "> _Only remove rows with `NaN` entries once you've subset to the columns you're interested in. This will minimize potentially unnecessary data loss..._\n",
    ">\n",
    "> _It would be possible to consider imputing missing data to further mitigate data loss, but the considerations for doing so are more advanced than the level of our course, so we'll not consider that for now._ \n",
    "\n",
    "</details>"
   ]
  },
  {
   "cell_type": "code",
   "execution_count": 1,
   "id": "e4b50624",
   "metadata": {},
   "outputs": [],
   "source": [
    "import pandas as pd\n",
    "import numpy as np\n",
    "from sklearn import tree\n",
    "from sklearn.model_selection import train_test_split\n",
    "from sklearn.metrics import confusion_matrix, ConfusionMatrixDisplay\n",
    "from sklearn.metrics import accuracy_score, recall_score, make_scorer\n",
    "import graphviz as gv\n",
    "\n",
    "url = \"https://raw.githubusercontent.com/pointOfive/STA130_F23/main/Data/amazonbooks.csv\"\n",
    "ab = pd.read_csv(url, encoding=\"ISO-8859-1\")\n",
    "# create `ab_reduced_noNaN` based on the specs above"
   ]
  },
  {
   "cell_type": "code",
   "execution_count": 2,
   "id": "868933a5",
   "metadata": {},
   "outputs": [
    {
     "data": {
      "text/html": [
       "<div>\n",
       "<style scoped>\n",
       "    .dataframe tbody tr th:only-of-type {\n",
       "        vertical-align: middle;\n",
       "    }\n",
       "\n",
       "    .dataframe tbody tr th {\n",
       "        vertical-align: top;\n",
       "    }\n",
       "\n",
       "    .dataframe thead th {\n",
       "        text-align: right;\n",
       "    }\n",
       "</style>\n",
       "<table border=\"1\" class=\"dataframe\">\n",
       "  <thead>\n",
       "    <tr style=\"text-align: right;\">\n",
       "      <th></th>\n",
       "      <th>Title</th>\n",
       "      <th>Author</th>\n",
       "      <th>List Price</th>\n",
       "      <th>Amazon Price</th>\n",
       "      <th>Hard_or_Paper</th>\n",
       "      <th>NumPages</th>\n",
       "      <th>Publisher</th>\n",
       "      <th>Pub year</th>\n",
       "      <th>ISBN-10</th>\n",
       "      <th>Height</th>\n",
       "      <th>Width</th>\n",
       "      <th>Thick</th>\n",
       "      <th>Weight_oz</th>\n",
       "    </tr>\n",
       "  </thead>\n",
       "  <tbody>\n",
       "    <tr>\n",
       "      <th>0</th>\n",
       "      <td>1,001 Facts that Will Scare the S#*t Out of Yo...</td>\n",
       "      <td>Cary McNeal</td>\n",
       "      <td>12.95</td>\n",
       "      <td>5.18</td>\n",
       "      <td>P</td>\n",
       "      <td>304.0</td>\n",
       "      <td>Adams Media</td>\n",
       "      <td>2010.0</td>\n",
       "      <td>1605506249</td>\n",
       "      <td>7.8</td>\n",
       "      <td>5.5</td>\n",
       "      <td>0.8</td>\n",
       "      <td>11.2</td>\n",
       "    </tr>\n",
       "    <tr>\n",
       "      <th>1</th>\n",
       "      <td>21: Bringing Down the House - Movie Tie-In: Th...</td>\n",
       "      <td>Ben Mezrich</td>\n",
       "      <td>15.00</td>\n",
       "      <td>10.20</td>\n",
       "      <td>P</td>\n",
       "      <td>273.0</td>\n",
       "      <td>Free Press</td>\n",
       "      <td>2008.0</td>\n",
       "      <td>1416564195</td>\n",
       "      <td>8.4</td>\n",
       "      <td>5.5</td>\n",
       "      <td>0.7</td>\n",
       "      <td>7.2</td>\n",
       "    </tr>\n",
       "    <tr>\n",
       "      <th>2</th>\n",
       "      <td>100 Best-Loved Poems (Dover Thrift Editions)</td>\n",
       "      <td>Smith</td>\n",
       "      <td>1.50</td>\n",
       "      <td>1.50</td>\n",
       "      <td>P</td>\n",
       "      <td>96.0</td>\n",
       "      <td>Dover Publications</td>\n",
       "      <td>1995.0</td>\n",
       "      <td>486285537</td>\n",
       "      <td>8.3</td>\n",
       "      <td>5.2</td>\n",
       "      <td>0.3</td>\n",
       "      <td>4.0</td>\n",
       "    </tr>\n",
       "    <tr>\n",
       "      <th>3</th>\n",
       "      <td>1421: The Year China Discovered America</td>\n",
       "      <td>Gavin Menzies</td>\n",
       "      <td>15.99</td>\n",
       "      <td>10.87</td>\n",
       "      <td>P</td>\n",
       "      <td>672.0</td>\n",
       "      <td>Harper Perennial</td>\n",
       "      <td>2008.0</td>\n",
       "      <td>61564893</td>\n",
       "      <td>8.8</td>\n",
       "      <td>6.0</td>\n",
       "      <td>1.6</td>\n",
       "      <td>28.8</td>\n",
       "    </tr>\n",
       "    <tr>\n",
       "      <th>4</th>\n",
       "      <td>1493: Uncovering the New World Columbus Created</td>\n",
       "      <td>Charles C. Mann</td>\n",
       "      <td>30.50</td>\n",
       "      <td>16.77</td>\n",
       "      <td>P</td>\n",
       "      <td>720.0</td>\n",
       "      <td>Knopf</td>\n",
       "      <td>2011.0</td>\n",
       "      <td>307265722</td>\n",
       "      <td>8.0</td>\n",
       "      <td>5.2</td>\n",
       "      <td>1.4</td>\n",
       "      <td>22.4</td>\n",
       "    </tr>\n",
       "  </tbody>\n",
       "</table>\n",
       "</div>"
      ],
      "text/plain": [
       "                                               Title           Author  \\\n",
       "0  1,001 Facts that Will Scare the S#*t Out of Yo...      Cary McNeal   \n",
       "1  21: Bringing Down the House - Movie Tie-In: Th...      Ben Mezrich   \n",
       "2       100 Best-Loved Poems (Dover Thrift Editions)            Smith   \n",
       "3            1421: The Year China Discovered America    Gavin Menzies   \n",
       "4    1493: Uncovering the New World Columbus Created  Charles C. Mann   \n",
       "\n",
       "   List Price  Amazon Price Hard_or_Paper  NumPages           Publisher  \\\n",
       "0       12.95          5.18             P     304.0         Adams Media   \n",
       "1       15.00         10.20             P     273.0          Free Press   \n",
       "2        1.50          1.50             P      96.0  Dover Publications   \n",
       "3       15.99         10.87             P     672.0    Harper Perennial   \n",
       "4       30.50         16.77             P     720.0               Knopf   \n",
       "\n",
       "   Pub year     ISBN-10  Height  Width  Thick  Weight_oz  \n",
       "0    2010.0  1605506249     7.8    5.5    0.8       11.2  \n",
       "1    2008.0  1416564195     8.4    5.5    0.7        7.2  \n",
       "2    1995.0   486285537     8.3    5.2    0.3        4.0  \n",
       "3    2008.0    61564893     8.8    6.0    1.6       28.8  \n",
       "4    2011.0   307265722     8.0    5.2    1.4       22.4  "
      ]
     },
     "execution_count": 2,
     "metadata": {},
     "output_type": "execute_result"
    }
   ],
   "source": [
    "import pandas as pd\n",
    "import numpy as np\n",
    "\n",
    "# Load the dataset\n",
    "url = \"https://raw.githubusercontent.com/pointOfive/STA130_F23/main/Data/amazonbooks.csv\"\n",
    "ab = pd.read_csv(url, encoding=\"ISO-8859-1\")\n",
    "\n",
    "# Inspect the first few rows\n",
    "ab.head()\n"
   ]
  },
  {
   "cell_type": "code",
   "execution_count": 3,
   "id": "39f224a2",
   "metadata": {},
   "outputs": [
    {
     "data": {
      "text/html": [
       "<div>\n",
       "<style scoped>\n",
       "    .dataframe tbody tr th:only-of-type {\n",
       "        vertical-align: middle;\n",
       "    }\n",
       "\n",
       "    .dataframe tbody tr th {\n",
       "        vertical-align: top;\n",
       "    }\n",
       "\n",
       "    .dataframe thead th {\n",
       "        text-align: right;\n",
       "    }\n",
       "</style>\n",
       "<table border=\"1\" class=\"dataframe\">\n",
       "  <thead>\n",
       "    <tr style=\"text-align: right;\">\n",
       "      <th></th>\n",
       "      <th>Title</th>\n",
       "      <th>Author</th>\n",
       "      <th>List Price</th>\n",
       "      <th>Amazon Price</th>\n",
       "      <th>Hard_or_Paper</th>\n",
       "      <th>NumPages</th>\n",
       "      <th>Publisher</th>\n",
       "      <th>Pub year</th>\n",
       "      <th>ISBN-10</th>\n",
       "      <th>Thick</th>\n",
       "    </tr>\n",
       "  </thead>\n",
       "  <tbody>\n",
       "    <tr>\n",
       "      <th>0</th>\n",
       "      <td>1,001 Facts that Will Scare the S#*t Out of Yo...</td>\n",
       "      <td>Cary McNeal</td>\n",
       "      <td>12.95</td>\n",
       "      <td>5.18</td>\n",
       "      <td>P</td>\n",
       "      <td>304.0</td>\n",
       "      <td>Adams Media</td>\n",
       "      <td>2010.0</td>\n",
       "      <td>1605506249</td>\n",
       "      <td>0.8</td>\n",
       "    </tr>\n",
       "    <tr>\n",
       "      <th>1</th>\n",
       "      <td>21: Bringing Down the House - Movie Tie-In: Th...</td>\n",
       "      <td>Ben Mezrich</td>\n",
       "      <td>15.00</td>\n",
       "      <td>10.20</td>\n",
       "      <td>P</td>\n",
       "      <td>273.0</td>\n",
       "      <td>Free Press</td>\n",
       "      <td>2008.0</td>\n",
       "      <td>1416564195</td>\n",
       "      <td>0.7</td>\n",
       "    </tr>\n",
       "    <tr>\n",
       "      <th>2</th>\n",
       "      <td>100 Best-Loved Poems (Dover Thrift Editions)</td>\n",
       "      <td>Smith</td>\n",
       "      <td>1.50</td>\n",
       "      <td>1.50</td>\n",
       "      <td>P</td>\n",
       "      <td>96.0</td>\n",
       "      <td>Dover Publications</td>\n",
       "      <td>1995.0</td>\n",
       "      <td>486285537</td>\n",
       "      <td>0.3</td>\n",
       "    </tr>\n",
       "    <tr>\n",
       "      <th>3</th>\n",
       "      <td>1421: The Year China Discovered America</td>\n",
       "      <td>Gavin Menzies</td>\n",
       "      <td>15.99</td>\n",
       "      <td>10.87</td>\n",
       "      <td>P</td>\n",
       "      <td>672.0</td>\n",
       "      <td>Harper Perennial</td>\n",
       "      <td>2008.0</td>\n",
       "      <td>61564893</td>\n",
       "      <td>1.6</td>\n",
       "    </tr>\n",
       "    <tr>\n",
       "      <th>4</th>\n",
       "      <td>1493: Uncovering the New World Columbus Created</td>\n",
       "      <td>Charles C. Mann</td>\n",
       "      <td>30.50</td>\n",
       "      <td>16.77</td>\n",
       "      <td>P</td>\n",
       "      <td>720.0</td>\n",
       "      <td>Knopf</td>\n",
       "      <td>2011.0</td>\n",
       "      <td>307265722</td>\n",
       "      <td>1.4</td>\n",
       "    </tr>\n",
       "  </tbody>\n",
       "</table>\n",
       "</div>"
      ],
      "text/plain": [
       "                                               Title           Author  \\\n",
       "0  1,001 Facts that Will Scare the S#*t Out of Yo...      Cary McNeal   \n",
       "1  21: Bringing Down the House - Movie Tie-In: Th...      Ben Mezrich   \n",
       "2       100 Best-Loved Poems (Dover Thrift Editions)            Smith   \n",
       "3            1421: The Year China Discovered America    Gavin Menzies   \n",
       "4    1493: Uncovering the New World Columbus Created  Charles C. Mann   \n",
       "\n",
       "   List Price  Amazon Price Hard_or_Paper  NumPages           Publisher  \\\n",
       "0       12.95          5.18             P     304.0         Adams Media   \n",
       "1       15.00         10.20             P     273.0          Free Press   \n",
       "2        1.50          1.50             P      96.0  Dover Publications   \n",
       "3       15.99         10.87             P     672.0    Harper Perennial   \n",
       "4       30.50         16.77             P     720.0               Knopf   \n",
       "\n",
       "   Pub year     ISBN-10  Thick  \n",
       "0    2010.0  1605506249    0.8  \n",
       "1    2008.0  1416564195    0.7  \n",
       "2    1995.0   486285537    0.3  \n",
       "3    2008.0    61564893    1.6  \n",
       "4    2011.0   307265722    1.4  "
      ]
     },
     "execution_count": 3,
     "metadata": {},
     "output_type": "execute_result"
    }
   ],
   "source": [
    "# Remove specified columns\n",
    "ab_reduced = ab.drop(columns=['Weight_oz', 'Width', 'Height'])\n",
    "\n",
    "# Inspect the dataset again to ensure columns were dropped\n",
    "ab_reduced.head()\n"
   ]
  },
  {
   "cell_type": "code",
   "execution_count": 4,
   "id": "3bcd9390",
   "metadata": {},
   "outputs": [
    {
     "data": {
      "text/plain": [
       "Title            0\n",
       "Author           0\n",
       "List Price       0\n",
       "Amazon Price     0\n",
       "Hard_or_Paper    0\n",
       "NumPages         0\n",
       "Publisher        0\n",
       "Pub year         0\n",
       "ISBN-10          0\n",
       "Thick            0\n",
       "dtype: int64"
      ]
     },
     "execution_count": 4,
     "metadata": {},
     "output_type": "execute_result"
    }
   ],
   "source": [
    "# Drop rows with NaN entries\n",
    "ab_reduced_noNaN = ab_reduced.dropna()\n",
    "\n",
    "# Check the result of NaN removal\n",
    "ab_reduced_noNaN.isnull().sum()  # Should show 0 NaN entries across columns\n"
   ]
  },
  {
   "cell_type": "code",
   "execution_count": 5,
   "id": "9cb15d16",
   "metadata": {},
   "outputs": [
    {
     "name": "stderr",
     "output_type": "stream",
     "text": [
      "/tmp/ipykernel_52/2939333705.py:2: SettingWithCopyWarning: \n",
      "A value is trying to be set on a copy of a slice from a DataFrame.\n",
      "Try using .loc[row_indexer,col_indexer] = value instead\n",
      "\n",
      "See the caveats in the documentation: https://pandas.pydata.org/pandas-docs/stable/user_guide/indexing.html#returning-a-view-versus-a-copy\n",
      "  ab_reduced_noNaN['Pub year'] = ab_reduced_noNaN['Pub year'].astype(int)\n",
      "/tmp/ipykernel_52/2939333705.py:3: SettingWithCopyWarning: \n",
      "A value is trying to be set on a copy of a slice from a DataFrame.\n",
      "Try using .loc[row_indexer,col_indexer] = value instead\n",
      "\n",
      "See the caveats in the documentation: https://pandas.pydata.org/pandas-docs/stable/user_guide/indexing.html#returning-a-view-versus-a-copy\n",
      "  ab_reduced_noNaN['NumPages'] = ab_reduced_noNaN['NumPages'].astype(int)\n",
      "/tmp/ipykernel_52/2939333705.py:6: SettingWithCopyWarning: \n",
      "A value is trying to be set on a copy of a slice from a DataFrame.\n",
      "Try using .loc[row_indexer,col_indexer] = value instead\n",
      "\n",
      "See the caveats in the documentation: https://pandas.pydata.org/pandas-docs/stable/user_guide/indexing.html#returning-a-view-versus-a-copy\n",
      "  ab_reduced_noNaN['Hard_or_Paper'] = ab_reduced_noNaN['Hard_or_Paper'].astype('category')\n"
     ]
    },
    {
     "data": {
      "text/plain": [
       "Title              object\n",
       "Author             object\n",
       "List Price        float64\n",
       "Amazon Price      float64\n",
       "Hard_or_Paper    category\n",
       "NumPages            int64\n",
       "Publisher          object\n",
       "Pub year            int64\n",
       "ISBN-10            object\n",
       "Thick             float64\n",
       "dtype: object"
      ]
     },
     "execution_count": 5,
     "metadata": {},
     "output_type": "execute_result"
    }
   ],
   "source": [
    "# Convert 'Pub year' and 'NumPages' to integer\n",
    "ab_reduced_noNaN['Pub year'] = ab_reduced_noNaN['Pub year'].astype(int)\n",
    "ab_reduced_noNaN['NumPages'] = ab_reduced_noNaN['NumPages'].astype(int)\n",
    "\n",
    "# Convert 'Hard_or_Paper' to categorical\n",
    "ab_reduced_noNaN['Hard_or_Paper'] = ab_reduced_noNaN['Hard_or_Paper'].astype('category')\n",
    "\n",
    "# Verify the changes\n",
    "ab_reduced_noNaN.dtypes\n"
   ]
  },
  {
   "cell_type": "code",
   "execution_count": 6,
   "id": "9d49fd18",
   "metadata": {},
   "outputs": [
    {
     "data": {
      "text/html": [
       "<div>\n",
       "<style scoped>\n",
       "    .dataframe tbody tr th:only-of-type {\n",
       "        vertical-align: middle;\n",
       "    }\n",
       "\n",
       "    .dataframe tbody tr th {\n",
       "        vertical-align: top;\n",
       "    }\n",
       "\n",
       "    .dataframe thead th {\n",
       "        text-align: right;\n",
       "    }\n",
       "</style>\n",
       "<table border=\"1\" class=\"dataframe\">\n",
       "  <thead>\n",
       "    <tr style=\"text-align: right;\">\n",
       "      <th></th>\n",
       "      <th>List Price</th>\n",
       "      <th>Amazon Price</th>\n",
       "      <th>NumPages</th>\n",
       "      <th>Pub year</th>\n",
       "      <th>Thick</th>\n",
       "    </tr>\n",
       "  </thead>\n",
       "  <tbody>\n",
       "    <tr>\n",
       "      <th>count</th>\n",
       "      <td>319.000000</td>\n",
       "      <td>319.000000</td>\n",
       "      <td>319.000000</td>\n",
       "      <td>319.000000</td>\n",
       "      <td>319.000000</td>\n",
       "    </tr>\n",
       "    <tr>\n",
       "      <th>mean</th>\n",
       "      <td>18.362978</td>\n",
       "      <td>12.941034</td>\n",
       "      <td>334.272727</td>\n",
       "      <td>2002.175549</td>\n",
       "      <td>0.903448</td>\n",
       "    </tr>\n",
       "    <tr>\n",
       "      <th>std</th>\n",
       "      <td>13.976755</td>\n",
       "      <td>12.436673</td>\n",
       "      <td>161.601510</td>\n",
       "      <td>10.646133</td>\n",
       "      <td>0.365261</td>\n",
       "    </tr>\n",
       "    <tr>\n",
       "      <th>min</th>\n",
       "      <td>1.500000</td>\n",
       "      <td>0.770000</td>\n",
       "      <td>24.000000</td>\n",
       "      <td>1936.000000</td>\n",
       "      <td>0.100000</td>\n",
       "    </tr>\n",
       "    <tr>\n",
       "      <th>25%</th>\n",
       "      <td>13.890000</td>\n",
       "      <td>8.600000</td>\n",
       "      <td>208.000000</td>\n",
       "      <td>1998.000000</td>\n",
       "      <td>0.600000</td>\n",
       "    </tr>\n",
       "    <tr>\n",
       "      <th>50%</th>\n",
       "      <td>15.000000</td>\n",
       "      <td>10.200000</td>\n",
       "      <td>320.000000</td>\n",
       "      <td>2005.000000</td>\n",
       "      <td>0.900000</td>\n",
       "    </tr>\n",
       "    <tr>\n",
       "      <th>75%</th>\n",
       "      <td>19.360000</td>\n",
       "      <td>12.560000</td>\n",
       "      <td>416.000000</td>\n",
       "      <td>2010.000000</td>\n",
       "      <td>1.100000</td>\n",
       "    </tr>\n",
       "    <tr>\n",
       "      <th>max</th>\n",
       "      <td>139.950000</td>\n",
       "      <td>139.950000</td>\n",
       "      <td>896.000000</td>\n",
       "      <td>2011.000000</td>\n",
       "      <td>2.100000</td>\n",
       "    </tr>\n",
       "  </tbody>\n",
       "</table>\n",
       "</div>"
      ],
      "text/plain": [
       "       List Price  Amazon Price    NumPages     Pub year       Thick\n",
       "count  319.000000    319.000000  319.000000   319.000000  319.000000\n",
       "mean    18.362978     12.941034  334.272727  2002.175549    0.903448\n",
       "std     13.976755     12.436673  161.601510    10.646133    0.365261\n",
       "min      1.500000      0.770000   24.000000  1936.000000    0.100000\n",
       "25%     13.890000      8.600000  208.000000  1998.000000    0.600000\n",
       "50%     15.000000     10.200000  320.000000  2005.000000    0.900000\n",
       "75%     19.360000     12.560000  416.000000  2010.000000    1.100000\n",
       "max    139.950000    139.950000  896.000000  2011.000000    2.100000"
      ]
     },
     "execution_count": 6,
     "metadata": {},
     "output_type": "execute_result"
    }
   ],
   "source": [
    "# Get summary statistics for numeric columns\n",
    "ab_reduced_noNaN.describe()"
   ]
  },
  {
   "cell_type": "code",
   "execution_count": 7,
   "id": "b088374d",
   "metadata": {},
   "outputs": [
    {
     "data": {
      "text/plain": [
       "Hard_or_Paper\n",
       "P    233\n",
       "H     86\n",
       "Name: count, dtype: int64"
      ]
     },
     "execution_count": 7,
     "metadata": {},
     "output_type": "execute_result"
    }
   ],
   "source": [
    "# Check the distribution of 'Hard_or_Paper' (the categorical variable)\n",
    "ab_reduced_noNaN['Hard_or_Paper'].value_counts()"
   ]
  },
  {
   "cell_type": "code",
   "execution_count": 8,
   "id": "2b4c6fef",
   "metadata": {},
   "outputs": [
    {
     "data": {
      "image/png": "[encoded data removed]",
      "text/plain": [
       "<Figure size 800x600 with 1 Axes>"
      ]
     },
     "metadata": {},
     "output_type": "display_data"
    },
    {
     "data": {
      "image/png": "[encoded data removed]",
      "text/plain": [
       "<Figure size 800x600 with 1 Axes>"
      ]
     },
     "metadata": {},
     "output_type": "display_data"
    }
   ],
   "source": [
    "import matplotlib.pyplot as plt\n",
    "\n",
    "# Histogram for 'Pub year'\n",
    "plt.figure(figsize=(8, 6))\n",
    "ab_reduced_noNaN['Pub year'].hist(bins=20)\n",
    "plt.title('Distribution of Publication Year')\n",
    "plt.xlabel('Pub year')\n",
    "plt.ylabel('Frequency')\n",
    "plt.show()\n",
    "\n",
    "# Histogram for 'NumPages'\n",
    "plt.figure(figsize=(8, 6))\n",
    "ab_reduced_noNaN['NumPages'].hist(bins=20)\n",
    "plt.title('Distribution of Number of Pages')\n",
    "plt.xlabel('NumPages')\n",
    "plt.ylabel('Frequency')\n",
    "plt.show()\n"
   ]
  },
  {
   "cell_type": "code",
   "execution_count": 11,
   "id": "80c86bbd",
   "metadata": {
    "scrolled": true
   },
   "outputs": [
    {
     "name": "stdout",
     "output_type": "stream",
     "text": [
      "<class 'pandas.core.frame.DataFrame'>\n",
      "Index: 319 entries, 0 to 324\n",
      "Data columns (total 10 columns):\n",
      " #   Column         Non-Null Count  Dtype   \n",
      "---  ------         --------------  -----   \n",
      " 0   Title          319 non-null    object  \n",
      " 1   Author         319 non-null    object  \n",
      " 2   List Price     319 non-null    float64 \n",
      " 3   Amazon Price   319 non-null    float64 \n",
      " 4   Hard_or_Paper  319 non-null    category\n",
      " 5   NumPages       319 non-null    int64   \n",
      " 6   Publisher      319 non-null    object  \n",
      " 7   Pub year       319 non-null    int64   \n",
      " 8   ISBN-10        319 non-null    object  \n",
      " 9   Thick          319 non-null    float64 \n",
      "dtypes: category(1), float64(3), int64(2), object(4)\n",
      "memory usage: 25.4+ KB\n"
     ]
    }
   ],
   "source": [
    "# Get a summary of the cleaned dataset\n",
    "ab_reduced_noNaN.info()"
   ]
  },
  {
   "cell_type": "markdown",
   "id": "27f7c4e2",
   "metadata": {},
   "source": [
    "Summary of conversation (question 1-3)\n",
    "1. Classification Decision Tree:\n",
    "- We discussed the types of problems a Classification Decision Tree addresses and contrasted it with Multiple Linear Regression, explaining how a decision tree makes predictions by making sequential decisions down the nodes of the tree.\n",
    "\n",
    "2. Evaluation Metrics:\n",
    "- We explored the real-world application of four key metrics (Accuracy, Sensitivity, Specificity, and Precision), providing examples of when each metric would be most useful, such as quality control, disease screening, spam filtering, and fraud detection.\n",
    "\n",
    "3. Amazon Books Dataset EDA:\n",
    "- We went through the process of pre-processing the Amazon Books dataset by removing unnecessary columns (Weight_oz, Width, Height), dropping rows with NaN values, and converting specific columns to appropriate data types. We also covered basic exploratory data analysis (EDA) steps, including summary statistics, distribution visualizations, and correlations between numerical features.\n",
    "\n",
    "Link: https://chatgpt.com/share/673bff21-59f8-8005-8147-7b296fc9d638"
   ]
  },
  {
   "cell_type": "markdown",
   "id": "c225c340",
   "metadata": {},
   "source": [
    "### 4. Create an 80/20 split with 80% of the data as a training set *ab_reduced_noNaN_train* and 20% of the data testing set  *ab_reduced_noNaN_test* using either *df.sample(...)* as done in TUT or using *train_test_split(...)* as done in the previous HW, and report on how many observations there are in the training data set and the test data set.<br><br>Tell a ChatBot that you are about to fit a \"scikit-learn\" *DecisionTreeClassifier* model and ask what the two steps given below are doing; then use your ChatBots help to write code to \"train\" a classification tree *clf* using only the *List Price* variable to predict whether or not a book is a hard cover or paper back book using a *max_depth* of *2*; finally use *tree.plot_tree(clf)* to explain what *predictions* are made based on *List Price* for the fitted *clf* model\n",
    "\n",
    "```python\n",
    "y = pd.get_dummies(ab_reduced_noNaN[\"Hard_or_Paper\"])['H']\n",
    "X = ab_reduced_noNaN[['List Price']]\n",
    "```\n",
    "<details class=\"details-example\"><summary style=\"color:blue\"><u>Further Guidance</u></summary>\n",
    "\n",
    "> _To complete the final 80/20 split of the **observations** in a reproducible way, set a \"random seed\"._ \n",
    "> \n",
    "> - _A single **observation** consists of all the measurements made on a single entity, typically corresponding to a row of a data frame. In **Machine Learning**, a collection of values of interest measured for a single entity is called a \"vector\" and so the **observation** is referred to as a **vector**_.\n",
    ">    \n",
    "> _Asking the ChatBot about \"DecisionTreeClassifier .fit(...)\" can be helpful here..._\n",
    "> \n",
    "> _Should you use the \"ab_reduced_noNaN\" data, or the \"ab_reduced_noNaN_train\" data, or the \"ab_reduced_noNaN_test\" data to initially fit the classification tree? Why?_\n",
    ">    \n",
    "> _You can visualize your decision tree using the `tree.plot_tree(clf)` function shown in the `sklearn` documentation [here](\n",
    "https://scikit-learn.org/stable/auto_examples/tree/plot_unveil_tree_structure.html#what-is-the-values-array-used-here) and [here](https://scikit-learn.org/stable/modules/tree.html); but, to make it more immediately readible it might be better to use `graphviz`, which is demonstrated in the `sklearn` documentation [here](https://scikit-learn.org/stable/modules/tree.html#alternative-ways-to-export-trees)_ \n",
    ">    \n",
    "> ---\n",
    "> \n",
    "> _Don't forget to ask for summaries of all your different ChatBot sessions and organize and paste these into your homework notebook (including link(s) to chat log histories if you're using ChatBot); but, if you're using the STA130 custom NBLM ChatBot, you'll only be able to ask for summaries, of course!_ \n",
    "    \n",
    "</details>"
   ]
  },
  {
   "cell_type": "markdown",
   "id": "388d4020",
   "metadata": {},
   "source": [
    "1. Splitting the data (80/20 split)\n",
    "First, we can use train_test_split from sklearn.model_selection to split the data into training and testing sets. To ensure reproducibility, we will set a random seed. We can use the ab_reduced_noNaN data for splitting."
   ]
  },
  {
   "cell_type": "code",
   "execution_count": 12,
   "id": "85318da7",
   "metadata": {},
   "outputs": [
    {
     "name": "stdout",
     "output_type": "stream",
     "text": [
      "Training set size: 255\n",
      "Test set size: 64\n"
     ]
    }
   ],
   "source": [
    "from sklearn.model_selection import train_test_split\n",
    "\n",
    "# Split the data into 80% training and 20% testing\n",
    "ab_reduced_noNaN_train, ab_reduced_noNaN_test = train_test_split(\n",
    "    ab_reduced_noNaN, test_size=0.2, random_state=42\n",
    ")\n",
    "\n",
    "# Print the number of observations in each dataset\n",
    "print(f\"Training set size: {ab_reduced_noNaN_train.shape[0]}\")\n",
    "print(f\"Test set size: {ab_reduced_noNaN_test.shape[0]}\")\n"
   ]
  },
  {
   "cell_type": "markdown",
   "id": "60449430",
   "metadata": {},
   "source": [
    "2.Use the List Price variable to predict whether a book is a hardcover or paperback."
   ]
  },
  {
   "cell_type": "code",
   "execution_count": 13,
   "id": "cae72128",
   "metadata": {
    "scrolled": true
   },
   "outputs": [
    {
     "data": {
      "text/plain": [
       "[Text(0.5, 0.8333333333333334, 'List Price <= 17.97\\ngini = 0.384\\nsamples = 255\\nvalue = [189, 66]\\nclass = Paperback'),\n",
       " Text(0.25, 0.5, 'List Price <= 10.8\\ngini = 0.212\\nsamples = 183\\nvalue = [161, 22]\\nclass = Paperback'),\n",
       " Text(0.125, 0.16666666666666666, 'gini = 0.369\\nsamples = 45\\nvalue = [34, 11]\\nclass = Paperback'),\n",
       " Text(0.375, 0.16666666666666666, 'gini = 0.147\\nsamples = 138\\nvalue = [127, 11]\\nclass = Paperback'),\n",
       " Text(0.75, 0.5, 'List Price <= 27.275\\ngini = 0.475\\nsamples = 72\\nvalue = [28, 44]\\nclass = Hardcover'),\n",
       " Text(0.625, 0.16666666666666666, 'gini = 0.39\\nsamples = 49\\nvalue = [13, 36]\\nclass = Hardcover'),\n",
       " Text(0.875, 0.16666666666666666, 'gini = 0.454\\nsamples = 23\\nvalue = [15, 8]\\nclass = Paperback')]"
      ]
     },
     "execution_count": 13,
     "metadata": {},
     "output_type": "execute_result"
    },
    {
     "data": {
      "image/png": "[encoded data removed]",
      "text/plain": [
       "<Figure size 640x480 with 1 Axes>"
      ]
     },
     "metadata": {},
     "output_type": "display_data"
    }
   ],
   "source": [
    "from sklearn.tree import DecisionTreeClassifier\n",
    "import pandas as pd\n",
    "from sklearn import tree\n",
    "\n",
    "# Prepare the target variable (y) and the feature variable (X)\n",
    "y = pd.get_dummies(ab_reduced_noNaN_train[\"Hard_or_Paper\"])['H']  # 'H' for hardcover\n",
    "X = ab_reduced_noNaN_train[['List Price']]  # List Price as the feature\n",
    "\n",
    "# Create and fit the decision tree classifier with max_depth=2\n",
    "clf = DecisionTreeClassifier(max_depth=2)\n",
    "clf.fit(X, y)\n",
    "\n",
    "# Visualize the decision tree\n",
    "tree.plot_tree(clf, feature_names=['List Price'], class_names=['Paperback', 'Hardcover'], filled=True)\n"
   ]
  },
  {
   "cell_type": "markdown",
   "id": "61fc2eab",
   "metadata": {},
   "source": [
    "After splitting the data into an 80/20 train-test split, the number of observations in each dataset can be described as follows:\n",
    "\n",
    "- Training set: The training dataset contains 80% of the total observations. The exact number of observations in the training dataset is the total number of rows in ab_reduced_noNaN_train.\n",
    "- Test set: The testing dataset contains 20% of the total observations. The exact number of observations in the test dataset is the total number of rows in ab_reduced_noNaN_test."
   ]
  },
  {
   "cell_type": "code",
   "execution_count": 14,
   "id": "0a9ceb79",
   "metadata": {},
   "outputs": [
    {
     "name": "stdout",
     "output_type": "stream",
     "text": [
      "Training set size: 255 observations\n",
      "Test set size: 64 observations\n"
     ]
    }
   ],
   "source": [
    "print(f\"Training set size: {ab_reduced_noNaN_train.shape[0]} observations\")\n",
    "print(f\"Test set size: {ab_reduced_noNaN_test.shape[0]} observations\")\n"
   ]
  },
  {
   "cell_type": "markdown",
   "id": "f2ac0e5b",
   "metadata": {},
   "source": [
    "<details class=\"details-example\"><summary style=\"color:blue\"><u>Continue now...?</u></summary>\n",
    "\n",
    "### Pre-lecture VS Post-lecture HW\n",
    "\n",
    "Feel free to work on the \"Post-lecture\" HW below if you're making good progress and want to continue: for **HW 08** this could be reasonable because, as you'll see, the process of creating and using **classification decision trees** is quite similar to the process for creating and using **multiple linear regression** models. There are differences of course, such as how there is **coefficient hypothesis testing** in **multiple linear regression** and **confusion matrices** in **classification decision trees**, and so on. But you would very likely be able to leverage the silarities to make a lot of progress with **classification decision trees** based on your experience with **multiple linear regression**.\n",
    "    \n",
    "*The benefits of continue would are that (a) Consolidate the knowledge already learned and integrate it comprehensively. (b) Let you build experience interacting with ChatBots (and understand their strengths and limitations in this regard)... it's good to have sense of when using a ChatBot is the best way to figure something out, or if another approach (such as course provided resources or a plain old websearch for the right resourse) would be more effective*\n",
    "    \n",
    "</details>    "
   ]
  },
  {
   "cell_type": "markdown",
   "id": "d75e7d3e",
   "metadata": {},
   "source": [
    "## \"Post-lecture\" HW [*submission along with \"Pre-lecture\" HW is due prior to next TUT*]\n"
   ]
  },
  {
   "cell_type": "markdown",
   "id": "98b3ce1f",
   "metadata": {},
   "source": [
    "### 5. Repeat the previous problem but this time visualize the *classification decision tree* based on the following specifications below; then explain generally how predictions are made for the *clf2* model<br>\n",
    "\n",
    "1. `X = ab_reduced_noNaN[['NumPages', 'Thick', 'List Price']]`\n",
    "2. `max_depth` set to `4`\n",
    "\n",
    "<details class=\"details-example\"><summary style=\"color:blue\"><u>Further Guidance</u></summary>\n",
    "\n",
    "> - _Use the same **train/test split** dataset used so far_\n",
    "> - _Train the **classification decision tree** `clf2` using **predictor variables** `NumPages`, `Thick` and `List Price`_ \n",
    "> - _Again **predict** whether or not a book is hard cover book or a paper back book_\n",
    "> - _You can visualize your decision tree using the `tree.plot_tree(clf)` function shown in the `sklearn` documentation [here](\n",
    "https://scikit-learn.org/stable/auto_examples/tree/plot_unveil_tree_structure.html#what-is-the-values-array-used-here) and [here](https://scikit-learn.org/stable/modules/tree.html); but, to make it more immediately readible it might be better to use `graphviz`, which is demonstrated in the `sklearn` documentation [here](https://scikit-learn.org/stable/modules/tree.html#alternative-ways-to-export-trees)_\n",
    ">\n",
    "> _If you are interested in how to find the best `max_depth` for a tree, ask ChatBot about \"GridSearchCV\"_\n",
    ">    \n",
    "> ---\n",
    "> \n",
    "> _Don't forget to ask for summaries of all your different ChatBot sessions and organize and paste these into your homework notebook (including link(s) to chat log histories if you're using ChatBot); but, if you're using the STA130 custom NBLM ChatBot, you'll only be able to ask for summaries, of course!_ \n",
    "    \n",
    "</details>"
   ]
  },
  {
   "cell_type": "code",
   "execution_count": 15,
   "id": "21134d45",
   "metadata": {},
   "outputs": [
    {
     "data": {
      "text/plain": [
       "[Text(0.4342105263157895, 0.9, 'List Price <= 17.97\\ngini = 0.384\\nsamples = 255\\nvalue = [189, 66]\\nclass = Paperback'),\n",
       " Text(0.21052631578947367, 0.7, 'NumPages <= 82.0\\ngini = 0.212\\nsamples = 183\\nvalue = [161, 22]\\nclass = Paperback'),\n",
       " Text(0.10526315789473684, 0.5, 'Thick <= 0.25\\ngini = 0.408\\nsamples = 7\\nvalue = [2, 5]\\nclass = Hardcover'),\n",
       " Text(0.05263157894736842, 0.3, 'gini = 0.0\\nsamples = 2\\nvalue = [2, 0]\\nclass = Paperback'),\n",
       " Text(0.15789473684210525, 0.3, 'gini = 0.0\\nsamples = 5\\nvalue = [0, 5]\\nclass = Hardcover'),\n",
       " Text(0.3157894736842105, 0.5, 'Thick <= 1.65\\ngini = 0.175\\nsamples = 176\\nvalue = [159, 17]\\nclass = Paperback'),\n",
       " Text(0.2631578947368421, 0.3, 'Thick <= 0.55\\ngini = 0.166\\nsamples = 175\\nvalue = [159, 16]\\nclass = Paperback'),\n",
       " Text(0.21052631578947367, 0.1, 'gini = 0.0\\nsamples = 32\\nvalue = [32, 0]\\nclass = Paperback'),\n",
       " Text(0.3157894736842105, 0.1, 'gini = 0.199\\nsamples = 143\\nvalue = [127, 16]\\nclass = Paperback'),\n",
       " Text(0.3684210526315789, 0.3, 'gini = 0.0\\nsamples = 1\\nvalue = [0, 1]\\nclass = Hardcover'),\n",
       " Text(0.6578947368421053, 0.7, 'Thick <= 0.95\\ngini = 0.475\\nsamples = 72\\nvalue = [28, 44]\\nclass = Hardcover'),\n",
       " Text(0.5263157894736842, 0.5, 'NumPages <= 228.0\\ngini = 0.4\\nsamples = 29\\nvalue = [21, 8]\\nclass = Paperback'),\n",
       " Text(0.47368421052631576, 0.3, 'List Price <= 25.975\\ngini = 0.498\\nsamples = 15\\nvalue = [7, 8]\\nclass = Hardcover'),\n",
       " Text(0.42105263157894735, 0.1, 'gini = 0.245\\nsamples = 7\\nvalue = [1, 6]\\nclass = Hardcover'),\n",
       " Text(0.5263157894736842, 0.1, 'gini = 0.375\\nsamples = 8\\nvalue = [6, 2]\\nclass = Paperback'),\n",
       " Text(0.5789473684210527, 0.3, 'gini = 0.0\\nsamples = 14\\nvalue = [14, 0]\\nclass = Paperback'),\n",
       " Text(0.7894736842105263, 0.5, 'NumPages <= 632.0\\ngini = 0.273\\nsamples = 43\\nvalue = [7, 36]\\nclass = Hardcover'),\n",
       " Text(0.6842105263157895, 0.3, 'Thick <= 1.05\\ngini = 0.149\\nsamples = 37\\nvalue = [3, 34]\\nclass = Hardcover'),\n",
       " Text(0.631578947368421, 0.1, 'gini = 0.444\\nsamples = 9\\nvalue = [3, 6]\\nclass = Hardcover'),\n",
       " Text(0.7368421052631579, 0.1, 'gini = 0.0\\nsamples = 28\\nvalue = [0, 28]\\nclass = Hardcover'),\n",
       " Text(0.8947368421052632, 0.3, 'List Price <= 64.725\\ngini = 0.444\\nsamples = 6\\nvalue = [4, 2]\\nclass = Paperback'),\n",
       " Text(0.8421052631578947, 0.1, 'gini = 0.32\\nsamples = 5\\nvalue = [4, 1]\\nclass = Paperback'),\n",
       " Text(0.9473684210526315, 0.1, 'gini = 0.0\\nsamples = 1\\nvalue = [0, 1]\\nclass = Hardcover')]"
      ]
     },
     "execution_count": 15,
     "metadata": {},
     "output_type": "execute_result"
    },
    {
     "data": {
      "image/png": "[encoded data removed]",
      "text/plain": [
       "<Figure size 640x480 with 1 Axes>"
      ]
     },
     "metadata": {},
     "output_type": "display_data"
    }
   ],
   "source": [
    "from sklearn.tree import DecisionTreeClassifier\n",
    "from sklearn import tree\n",
    "\n",
    "# Prepare the target variable (y) and the feature variables (X)\n",
    "y = pd.get_dummies(ab_reduced_noNaN_train[\"Hard_or_Paper\"])['H']  # 'H' for hardcover\n",
    "X = ab_reduced_noNaN_train[['NumPages', 'Thick', 'List Price']]  # New features\n",
    "\n",
    "# Create and fit the decision tree classifier with max_depth=4\n",
    "clf2 = DecisionTreeClassifier(max_depth=4)\n",
    "clf2.fit(X, y)\n",
    "\n",
    "# Visualize the decision tree\n",
    "tree.plot_tree(clf2, feature_names=['NumPages', 'Thick', 'List Price'], \n",
    "               class_names=['Paperback', 'Hardcover'], filled=True)\n"
   ]
  },
  {
   "cell_type": "markdown",
   "id": "30dd89c3",
   "metadata": {},
   "source": [
    "How preductios are made: \n",
    "1. Splitting the Data: The decision tree starts by considering all observations (books) in the training dataset and looks for the best feature (in this case, NumPages, Thick, or List Price) to split the data. The tree tries to minimize impurity at each node, which can be measured by metrics like Gini impurity or entropy.\n",
    "\n",
    "2. Max Depth of 4: The max_depth=4 parameter limits the depth of the tree to four levels, preventing it from overfitting. This means that the tree will not go deeper than four splits.\n",
    "\n",
    "3. Making Predictions: Once the decision tree is built, it can predict whether a book is a hardcover or paperback by following the decision rules created at each node:\n",
    "- Starting from the root node (the topmost decision point), the tree will use the values of NumPages, Thick, and List Price to navigate the tree.\n",
    "- At each node, the tree makes a decision based on one of the features. For example, it might first check whether List Price is greater than a certain threshold.\n",
    "- Based on this condition, the tree splits the data into two groups: one group where List Price > threshold, and one where List Price <= threshold. It continues this process until it reaches the leaf nodes.\n",
    "- Each leaf node corresponds to a predicted class (in this case, whether the book is a hardcover or paperback).\n",
    "\n",
    "4. Prediction: When you pass a new observation (a book with specific NumPages, Thick, and List Price) through the decision tree, it follows the decision rules in the tree to reach a leaf node, where the class label (hardcover or paperback) is assigned as the prediction.\n"
   ]
  },
  {
   "cell_type": "markdown",
   "id": "d889386a",
   "metadata": {},
   "source": [
    "### 6. Use previously created *ab_reduced_noNaN_test* to create confusion matrices for *clf* and *clf2*. Report the sensitivity, specificity and accuracy for each of the models<br>\n",
    "\n",
    "<details class=\"details-example\"><summary style=\"color:blue\"><u>Further Guidance</u></summary>\n",
    "\n",
    "> _Hopefully you immediately thought to ask ChatBot to help you with this problem, but if you did you should take time to make sure you're clear about the key components of what the ChatBot is providing for you. You might want to know_\n",
    "> - _what is a \"positive\" and what is a \"negative\"_\n",
    "> - _how to read an `sklearn` confusion matrix_\n",
    "> - _what leads to TP, TN, FP, and FN_\n",
    "> - _whether `y_true` or `y_pred` go first in the `confusion_matrix` function_   \n",
    ">\n",
    "> _Have the visualizations you make use decimal numbers with three signifiant digits, such as `0.123` (and not as percentages like `12.3%`), probably based on `np.round()`_\n",
    ">    \n",
    "> ---\n",
    "> \n",
    "> _Don't forget to ask for summaries of all your different ChatBot sessions and organize and paste these into your homework notebook (including link(s) to chat log histories if you're using ChatBot); but, if you're using the STA130 custom NBLM ChatBot, you'll only be able to ask for summaries, of course!_ \n",
    "       \n",
    "</details>"
   ]
  },
  {
   "cell_type": "code",
   "execution_count": 21,
   "id": "6634fa52",
   "metadata": {},
   "outputs": [],
   "source": [
    "# Preparing the target variable (y_true) and feature variables (X_test) from the test data\n",
    "y_true = pd.get_dummies(ab_reduced_noNaN_test[\"Hard_or_Paper\"])['H']  # 'H' for hardcover\n",
    "X_test = ab_reduced_noNaN_test[['NumPages', 'Thick', 'List Price']]\n",
    "\n",
    "# Predictions from the two models\n",
    "y_pred_clf = clf.predict(X_test[['List Price']])  # Model clf uses List Price\n",
    "y_pred_clf2 = clf2.predict(X_test)  # Model clf2 uses NumPages, Thick, and List Price"
   ]
  },
  {
   "cell_type": "code",
   "execution_count": 22,
   "id": "dd7cf939",
   "metadata": {},
   "outputs": [
    {
     "name": "stdout",
     "output_type": "stream",
     "text": [
      "Confusion Matrix for clf:\n",
      "[[40  4]\n",
      " [ 6 14]]\n",
      "Confusion Matrix for clf2:\n",
      "[[40  4]\n",
      " [ 5 15]]\n"
     ]
    }
   ],
   "source": [
    "# Confusion matrix for clf\n",
    "cm_clf = confusion_matrix(y_true, y_pred_clf)\n",
    "\n",
    "# Confusion matrix for clf2\n",
    "cm_clf2 = confusion_matrix(y_true, y_pred_clf2)\n",
    "\n",
    "print(\"Confusion Matrix for clf:\")\n",
    "print(cm_clf)\n",
    "\n",
    "print(\"Confusion Matrix for clf2:\")\n",
    "print(cm_clf2)\n"
   ]
  },
  {
   "cell_type": "markdown",
   "id": "6d895663",
   "metadata": {},
   "source": [
    "Confusion matrix:\n",
    "- True Positives (TP): Correctly predicted hardcover books (True class = 1, Predicted class = 1)\n",
    "- True Negatives (TN): Correctly predicted paperback books (True class = 0, Predicted class = 0)\n",
    "- False Positives (FP): Incorrectly predicted hardcover books (True class = 0, Predicted class = 1)\n",
    "- False Negatives (FN): Incorrectly predicted paperback books (True class = 1, Predicted class = 0)"
   ]
  },
  {
   "cell_type": "code",
   "execution_count": 24,
   "id": "e95a66d3",
   "metadata": {},
   "outputs": [
    {
     "name": "stdout",
     "output_type": "stream",
     "text": [
      "Sensitivity for clf: 0.7\n",
      "Specificity for clf: 0.909\n",
      "Accuracy for clf: 0.844\n",
      "Sensitivity for clf2: 0.75\n",
      "Specificity for clf2: 0.909\n",
      "Accuracy for clf2: 0.859\n"
     ]
    }
   ],
   "source": [
    "# Calculating metrics for clf\n",
    "TP_clf = cm_clf[1, 1]  # True Positives\n",
    "TN_clf = cm_clf[0, 0]  # True Negatives\n",
    "FP_clf = cm_clf[0, 1]  # False Positives\n",
    "FN_clf = cm_clf[1, 0]  # False Negatives\n",
    "\n",
    "sensitivity_clf = TP_clf / (TP_clf + FN_clf)\n",
    "specificity_clf = TN_clf / (TN_clf + FP_clf)\n",
    "accuracy_clf = (TP_clf + TN_clf) / (TP_clf + TN_clf + FP_clf + FN_clf)\n",
    "\n",
    "# Calculating metrics for clf2\n",
    "TP_clf2 = cm_clf2[1, 1]  # True Positives\n",
    "TN_clf2 = cm_clf2[0, 0]  # True Negatives\n",
    "FP_clf2 = cm_clf2[0, 1]  # False Positives\n",
    "FN_clf2 = cm_clf2[1, 0]  # False Negatives\n",
    "\n",
    "sensitivity_clf2 = TP_clf2 / (TP_clf2 + FN_clf2)\n",
    "specificity_clf2 = TN_clf2 / (TN_clf2 + FP_clf2)\n",
    "accuracy_clf2 = (TP_clf2 + TN_clf2) / (TP_clf2 + TN_clf2 + FP_clf2 + FN_clf2)\n",
    "\n",
    "# Reporting the results with 3 significant digits\n",
    "print(f\"Sensitivity for clf: {np.round(sensitivity_clf, 3)}\")\n",
    "print(f\"Specificity for clf: {np.round(specificity_clf, 3)}\")\n",
    "print(f\"Accuracy for clf: {np.round(accuracy_clf, 3)}\")\n",
    "\n",
    "print(f\"Sensitivity for clf2: {np.round(sensitivity_clf2, 3)}\")\n",
    "print(f\"Specificity for clf2: {np.round(specificity_clf2, 3)}\")\n",
    "print(f\"Accuracy for clf2: {np.round(accuracy_clf2, 3)}\")\n"
   ]
  },
  {
   "cell_type": "markdown",
   "id": "b2703aba",
   "metadata": {},
   "source": [
    "Visualizing the confusion matrics"
   ]
  },
  {
   "cell_type": "code",
   "execution_count": 25,
   "id": "312f2179",
   "metadata": {},
   "outputs": [
    {
     "data": {
      "image/png": "[encoded data removed]",
      "text/plain": [
       "<Figure size 640x480 with 2 Axes>"
      ]
     },
     "metadata": {},
     "output_type": "display_data"
    },
    {
     "data": {
      "image/png": "[encoded data removed]",
      "text/plain": [
       "<Figure size 640x480 with 2 Axes>"
      ]
     },
     "metadata": {},
     "output_type": "display_data"
    }
   ],
   "source": [
    "import seaborn as sns\n",
    "import matplotlib.pyplot as plt\n",
    "\n",
    "# Plot confusion matrix for clf\n",
    "sns.heatmap(cm_clf, annot=True, fmt='g', cmap='Blues', xticklabels=['Paperback', 'Hardcover'], yticklabels=['Paperback', 'Hardcover'])\n",
    "plt.title('Confusion Matrix for clf')\n",
    "plt.xlabel('Predicted')\n",
    "plt.ylabel('True')\n",
    "plt.show()\n",
    "\n",
    "# Plot confusion matrix for clf2\n",
    "sns.heatmap(cm_clf2, annot=True, fmt='g', cmap='Blues', xticklabels=['Paperback', 'Hardcover'], yticklabels=['Paperback', 'Hardcover'])\n",
    "plt.title('Confusion Matrix for clf2')\n",
    "plt.xlabel('Predicted')\n",
    "plt.ylabel('True')\n",
    "plt.show()"
   ]
  },
  {
   "cell_type": "markdown",
   "id": "72576c25",
   "metadata": {},
   "source": [
    "### 7. Explain in three to four sentences what is causing the differences between the following two confusion matrices below, and why the two confusion matrices above (for *clf* and *clf2*) are better<br>\n",
    "\n",
    "```python\n",
    "ConfusionMatrixDisplay(\n",
    "    confusion_matrix(ab_reduced_noNaN_train.life_exp_good, \n",
    "                     clf.predict(ab_reduced_noNaN_train[['List Price']]), \n",
    "                     labels=[0, 1]), display_labels=[\"Paper\",\"Hard\"]).plot()\n",
    "ConfusionMatrixDisplay(\n",
    "    confusion_matrix(ab_reduced_noNaN_train.life_exp_good, \n",
    "                     clf.predict(\n",
    "                         ab_reduced_noNaN_train[['NumPages','Thick','List Price']]), \n",
    "                     labels=[0, 1]), display_labels=[\"Paper\",\"Hard\"]).plot()\n",
    "```\n",
    "\n",
    "\n",
    "<details class=\"details-example\"><summary style=\"color:blue\"><u>Further Guidance</u></summary>\n",
    "    \n",
    "> _Don't forget to ask for summaries of all your different ChatBot sessions and organize and paste these into your homework notebook (including link(s) to chat log histories if you're using ChatBot); but, if you're using the STA130 custom NBLM ChatBot, you'll only be able to ask for summaries, of course!_ \n",
    "    \n",
    "</details>"
   ]
  },
  {
   "cell_type": "markdown",
   "id": "50a51cd1",
   "metadata": {},
   "source": [
    "The differences between the two confusion matrices arise from the features used for prediction. The first confusion matrix uses only List Price, while the second includes NumPages, Thick, and List Price. The second model has more features, likely leading to better predictions since it can capture more information about the books. The confusion matrices for clf and clf2 are better because they are evaluated on a separate test set, reducing overfitting, and they use a more comprehensive set of features in clf2, resulting in more accurate and generalized performance metrics."
   ]
  },
  {
   "cell_type": "markdown",
   "id": "526939c2",
   "metadata": {},
   "source": [
    "\n",
    "### 8. Read the paragraphs in *Further Guidance* and ask a ChatBot how to visualize *feature Importances* available for *scikit-learn* *classification decision trees*; do so for *clf2*;  and use *.feature_names_in_* corresponding to *.feature_importances_* to report which *predictor variable* is most important for making predictions according to *clf2*<br>\n",
    "\n",
    "\n",
    "<details class=\"details-example\"><summary style=\"color:blue\"><u>Further Guidance</u></summary>\n",
    "  \n",
    "> The way a **classification decision tree** is fit is that at each step in the construction process of adding a new **decision node splitting rule** to the current **tree structure**, all possible **decision rules** for all possible **predictor variables** are considered, and the combination that improves the **prediction** the most (as measured by the criterion of either \"Gini impurity\" or \"Shannon entropy\") and in accordance with the rules of the decision tree (such as the `max_depth` argument) is added to the **classification decision tree**.  Thus overall \"criterion\" noted above improves with each new **decision node splitting rule**, so the improvement can thus be tracked and the improvement contributions attributed to the **feature** upon which the **decision node splitting rule** is based.  This means the relative contribution of each **predictor variable** to the overall explanatory power of the model can be calculated, and this is what the `.feature_importances_` attribute does. \n",
    ">\n",
    "> Compared to the simplicity of understanding how different **covariates** contribute towards the final **predicted values** of **multiple linear regression models** (by just reading off the equation to see how predictions work), the the complexity of how all the different **features** interact and combine to together to create the final **predictions** from **classification decision trees** can be staggering. But the so-called **feature importance** heuristics allows us to judge how relatively important the overall contributions from different features are in the final decision tree predictions. Now we just need to be sure we're not **overfitting** our **classification decision trees** since they can be so **complex**. Fortunately, the \"GridSearchCV\" methodology mentioned in regards to finding the best `max_depth` setting for a tree is going to provide a general answer to the challenge of complexity and **overfitting** in **machine learning models** that is not too hard to understand (and which you might already have some guesses or a hunch about). \n",
    "> \n",
    "> ---\n",
    "> \n",
    "> _Don't forget to ask for summaries of all your different ChatBot sessions and organize and paste these into your homework notebook (including link(s) to chat log histories if you're using ChatBot); but, if you're using the STA130 custom NBLM ChatBot, you'll only be able to ask for summaries, of course!_ \n",
    "       \n",
    "</details>"
   ]
  },
  {
   "cell_type": "markdown",
   "id": "13cf1b6a",
   "metadata": {},
   "source": [
    "For the clf2 model, assuming it is a DecisionTreeClassifier, you can access the feature importances through the .feature_importances_ attribute. \n",
    "--> This provides a numerical value for each feature, representing its contribution to the model's decision-making process.\n",
    "\n",
    "We can plot these importances using matplotlib to get a visual understanding of how each feature affects the decision tree's predictions:\n"
   ]
  },
  {
   "cell_type": "code",
   "execution_count": 26,
   "id": "8da6f616",
   "metadata": {},
   "outputs": [
    {
     "data": {
      "image/png": "[encoded data removed]",
      "text/plain": [
       "<Figure size 1000x600 with 1 Axes>"
      ]
     },
     "metadata": {},
     "output_type": "display_data"
    }
   ],
   "source": [
    "import matplotlib.pyplot as plt\n",
    "\n",
    "# Get the feature importances from clf2\n",
    "importances = clf2.feature_importances_\n",
    "\n",
    "# Get the feature names from the model\n",
    "feature_names = clf2.feature_names_in_\n",
    "\n",
    "# Create a bar chart\n",
    "plt.figure(figsize=(10, 6))\n",
    "plt.barh(feature_names, importances)\n",
    "plt.xlabel('Feature Importance')\n",
    "plt.title('Feature Importances in clf2')\n",
    "plt.show()\n"
   ]
  },
  {
   "cell_type": "markdown",
   "id": "6a084864",
   "metadata": {},
   "source": [
    "To identify which predictor variable is most important, look for the feature with the highest value in the clf2.feature_importances_ array. The feature with the highest value is the one that the model relies on most when making predictions. We can combine this information with the clf2.feature_names_in_ to easily find the corresponding feature name."
   ]
  },
  {
   "cell_type": "markdown",
   "id": "3eb7d92c",
   "metadata": {},
   "source": [
    "### 9. Describe the differences of interpreting coefficients in linear model regression versus feature importances in decision trees in two to three sentences<br>\n",
    "\n",
    "<details class=\"details-example\"><summary style=\"color:blue\"><u>Further Guidance</u></summary>\n",
    "\n",
    "> _Linear model regression predicts continuous real-valued averages for a given configuration of covariate values (or, feature values, if we're using machine learning terminology instead of statistical terminology), whereas a binary classification model such as a binary classification tree predicts 0/1 (\"yes\" or \"no\") outcomes (and gives the probability of a 1 \"yes\" (or \"success\") outcome from which a 1/0 \"yes\"/\"no\" prediction can be made; but, this is not what is being asked here. This question is asking \"what's the difference in the way we can interpret and understand how the predictor variables influence the predictions in linear model regression based on the coefficients versus in binary decision trees based on the Feature Importances?\"_\n",
    ">    \n",
    "> ---\n",
    "> \n",
    "> _Don't forget to ask for summaries of all your different ChatBot sessions and organize and paste these into your homework notebook (including link(s) to chat log histories if you're using ChatBot); but, if you're using the STA130 custom NBLM ChatBot, you'll only be able to ask for summaries, of course!_ \n",
    "    \n",
    "</details>"
   ]
  },
  {
   "cell_type": "markdown",
   "id": "e116a447",
   "metadata": {},
   "source": [
    "In linear regression, the coefficients represent the direct change in the predicted outcome for each one-unit change in a predictor variable, providing a straightforward interpretation of how each feature influences the prediction. In contrast, feature importances in decision trees indicate the relative contribution of each feature to reducing uncertainty in the model (e.g., through Gini impurity or entropy), but they don't offer a direct, linear relationship between the feature and the predicted outcome. Instead, they provide a measure of how much each feature helps in making the decision at different nodes in the tree, reflecting a more complex, non-linear influence on the prediction​\n"
   ]
  },
  {
   "cell_type": "markdown",
   "id": "2686ab11",
   "metadata": {},
   "source": [
    "Summary of our chat (question 4-9):\n",
    "\n",
    "In this chat session, we worked through several tasks related to classification models using decision trees in scikit-learn. You learned how to perform an 80/20 split of your dataset, train a DecisionTreeClassifier using predictor variables, and visualize the decision tree. We also discussed how to interpret and evaluate the models' performance using confusion matrices, calculating sensitivity, specificity, and accuracy. You gained insight into how feature importances in decision trees differ from the interpretation of coefficients in linear regression, with decision trees reflecting non-linear relationships between features and predictions.\n",
    "\n",
    "Link: https://chatgpt.com/share/673c0674-c070-8005-824b-762de27e24cc"
   ]
  },
  {
   "cell_type": "markdown",
   "id": "bf6fb0cb",
   "metadata": {},
   "source": [
    "### 10. Have you reviewed the course wiki-textbook and interacted with a ChatBot (or, if that wasn't sufficient, real people in the course piazza discussion board or TA office hours) to help you understand all the material in the tutorial and lecture that you didn't quite follow when you first saw it?<br>\n",
    "  \n",
    "<details class=\"details-example\"><summary style=\"color:blue\"><u>Further Guidance</u></summary>\n",
    "\n",
    ">  _Here is the link of [wiki-textbook](https://github.com/pointOfive/stat130chat130/wiki) in case it gets lost among all the information you need to keep track of_  : )\n",
    "> \n",
    "> _Just answering \"Yes\" or \"No\" or \"Somewhat\" or \"Mostly\" or whatever here is fine as this question isn't a part of the rubric; but, the midterm and final exams may ask questions that are based on the tutorial and lecture materials; and, your own skills will be limited by your familiarity with these materials (which will determine your ability to actually do actual things effectively with these skills... like the course project...)_\n",
    "    \n",
    "</details>"
   ]
  },
  {
   "cell_type": "markdown",
   "id": "02de9afb",
   "metadata": {},
   "source": [
    "Yes."
   ]
  },
  {
   "cell_type": "markdown",
   "id": "d2436778",
   "metadata": {},
   "source": [
    "# Recommended Additional Useful Activities [Optional]\n",
    "\n",
    "The \"Ethical Profesionalism Considerations\" and \"Current Course Project Capability Level\" sections below **are not a part of the required homework assignment**; rather, they are regular weekly guides covering (a) relevant considerations regarding professional and ethical conduct, and (b) the analysis steps for the STA130 course project that are feasible at the current stage of the course \n",
    "\n",
    "<br>\n",
    "<details class=\"details-example\"><summary style=\"color:blue\"><u>Ethical Professionalism Considerations</u></summary>\n",
    "\n",
    "### Ethical Professionalism Considerations\n",
    "\n",
    "- Discuss with a ChatBox about consent and data collection for training models.\n",
    "    - Discuss the ethics of data collection for training decision trees, particularly the need for informed consent when personal data is involved.\n",
    "    - Evaluate the role of regulatory frameworks in ensuring ethical data collection practices.\n",
    "- Discuss with a ChatBox about accountability in automated decision-making.\n",
    "    - Address the challenges of holding systems and their developers accountable when decision trees lead to adverse outcomes.\n",
    "    - Explore legal and ethical frameworks for responsibility when automated decisions go wrong.\n",
    "- Discuss with a ChatBox about transparency and explainability in classification models.\n",
    "    - Discuss the importance of model transparency, particularly when using decision trees in sectors like healthcare or criminal justice.\n",
    "    - Explore methods to enhance the explainability of decision trees, such as visualization techniques and simplified decision paths.\n",
    "- Discuss with a ChatBox about impact of misclassifications in critical applications.\n",
    "    - Examine the consequences of false positives and false negatives in decision tree outcomes, using confusion matrices to highlight these issues.\n",
    "    - Discuss ethical responsibilities when deploying classifiers in high-stakes fields like medicine or law enforcement.\n",
    "    \n",
    "</details>    \n",
    "\n",
    "<details class=\"details-example\"><summary style=\"color:blue\"><u>Current Course Project Capability Level</u></summary>\n",
    "\n",
    "**Remember to abide by the [data use agreement](https://static1.squarespace.com/static/60283c2e174c122f8ebe0f39/t/6239c284d610f76fed5a2e69/1647952517436/Data+Use+Agreement+for+the+Canadian+Social+Connection+Survey.pdf) at all times.**\n",
    "\n",
    "Information about the course project is available on the course github repo [here](https://github.com/pointOfive/stat130chat130/tree/main/CP), including a draft [course project specfication](https://github.com/pointOfive/stat130chat130/blob/main/CP/STA130F23_course_project_specification.ipynb) (subject to change). \n",
    "- The Week 01 HW introduced [STA130F24_CourseProject.ipynb](https://github.com/pointOfive/stat130chat130/blob/main/CP/STA130F24_CourseProject.ipynb), and the [available variables](https://drive.google.com/file/d/1ISVymGn-WR1lcRs4psIym2N3or5onNBi/view). \n",
    "- Please do not download the [data](https://drive.google.com/file/d/1mbUQlMTrNYA7Ly5eImVRBn16Ehy9Lggo/view) accessible at the bottom of the [CSCS](https://casch.org/cscs) webpage (or the course github repo) multiple times.\n",
    "    \n",
    "\n",
    "> ### NEW DEVELOPMENT<br>New Abilities Achieved and New Levels Unlocked!!!    \n",
    "> \n",
    "> And with that, ALL LEVELS unlocked! \n",
    ">\n",
    "> CONGRATS, YOU LEGENDS! 🎉\n",
    ">\n",
    "> You’ve battled through the wild jungles of deadlines, defeated the mighty Homework Beasts, and climbed the towering Mount Procrastination. And guess what? YOU MADE IT TO THE TOP! 🏔️\n",
    "> \n",
    "> Take a bow, grab a treat, and enjoy the sweet, sweet taste of freedom(**just for now , because you still have to finish the project! But you are almost done!**). You’ve earned it. Now go out there and celebrate like the absolute rockstars you are! 🌟💪\n",
    ">\n",
    "\n",
    "    \n",
    "### Current Course Project Capability Level    \n",
    "    \n",
    "I mean, the **course project** is basically, like, essentially now.\n",
    "    \n",
    "- Will you be doing any **classification decision trees** stuff for the course project?\n",
    "    - You could consider making some [partial dependency plots](https://scikit-learn.org/stable/modules/partial_dependence.html) if so...\n",
    "    - those might provide an interesting analysis in addition to **tree structure** visualizations, **confusion matrices**, **feature importances**. and the standard \"in-sample versus out-of-sample\" **train-test validation** analysis that would be expected in a **machine learning context**\n",
    "    \n",
    "- You could see if there are any interesting columns that might make for a potentially interesting **classification decision tree** analysis\n",
    "    - You wouldn't have to though...\n",
    "    - But if you did you'd want to be able to articulate and explain why what you're doing with **classification decision trees** is appropriate and enlightening\n",
    "\n",
    "- Anyway, I guess that just leaves reviewing all the statistical techniques covered in STA130, and considering integrating them holistically into your project!\n",
    "    \n",
    "</details>        "
   ]
  }
 ],
 "metadata": {
  "kernelspec": {
   "display_name": "Python 3 (ipykernel)",
   "language": "python",
   "name": "python3"
  },
  "language_info": {
   "codemirror_mode": {
    "name": "ipython",
    "version": 3
   },
   "file_extension": ".py",
   "mimetype": "text/x-python",
   "name": "python",
   "nbconvert_exporter": "python",
   "pygments_lexer": "ipython3",
   "version": "3.11.6"
  }
 },
 "nbformat": 4,
 "nbformat_minor": 5
}
